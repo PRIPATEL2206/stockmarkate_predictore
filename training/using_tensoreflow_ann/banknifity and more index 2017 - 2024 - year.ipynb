{
 "cells": [
  {
   "cell_type": "code",
   "execution_count": 2,
   "metadata": {},
   "outputs": [],
   "source": [
    "import tensorflow as tf"
   ]
  },
  {
   "cell_type": "code",
   "execution_count": 3,
   "metadata": {},
   "outputs": [],
   "source": [
    "import pandas as pd\n",
    "from sklearn.preprocessing import MinMaxScaler\n",
    "from sklearn.model_selection import train_test_split\n",
    "import numpy as np\n",
    "from sklearn.linear_model import LinearRegression\n",
    "\n",
    "df=pd.read_csv(\"../../data/banknifity and more index 2017 - 2024 - year.csv\")"
   ]
  },
  {
   "cell_type": "code",
   "execution_count": 4,
   "metadata": {},
   "outputs": [
    {
     "data": {
      "text/html": [
       "<div>\n",
       "<style scoped>\n",
       "    .dataframe tbody tr th:only-of-type {\n",
       "        vertical-align: middle;\n",
       "    }\n",
       "\n",
       "    .dataframe tbody tr th {\n",
       "        vertical-align: top;\n",
       "    }\n",
       "\n",
       "    .dataframe thead th {\n",
       "        text-align: right;\n",
       "    }\n",
       "</style>\n",
       "<table border=\"1\" class=\"dataframe\">\n",
       "  <thead>\n",
       "    <tr style=\"text-align: right;\">\n",
       "      <th></th>\n",
       "      <th>Date</th>\n",
       "      <th>Price</th>\n",
       "      <th>Open</th>\n",
       "      <th>High</th>\n",
       "      <th>Low</th>\n",
       "      <th>Vol.</th>\n",
       "      <th>Change %</th>\n",
       "      <th>IC_Date</th>\n",
       "      <th>IC_Price</th>\n",
       "      <th>IC_Open</th>\n",
       "      <th>...</th>\n",
       "      <th>Next_pn_Low</th>\n",
       "      <th>Next_pn_Vol.</th>\n",
       "      <th>Next_pn_Change %</th>\n",
       "      <th>Next_bank_Date</th>\n",
       "      <th>Next_bank_Open</th>\n",
       "      <th>Next_bank_High</th>\n",
       "      <th>Next_bank_Low</th>\n",
       "      <th>Next_bank_Close</th>\n",
       "      <th>Next_bank_Shares Traded</th>\n",
       "      <th>Next_bank_Turnover (? Cr)</th>\n",
       "    </tr>\n",
       "  </thead>\n",
       "  <tbody>\n",
       "    <tr>\n",
       "      <th>0</th>\n",
       "      <td>10-05-2024</td>\n",
       "      <td>1,622.40</td>\n",
       "      <td>1,638.45</td>\n",
       "      <td>1,652.75</td>\n",
       "      <td>1,616.15</td>\n",
       "      <td>11.76M</td>\n",
       "      <td>-1.18%</td>\n",
       "      <td>10-05-2024</td>\n",
       "      <td>1,118.30</td>\n",
       "      <td>1,117.85</td>\n",
       "      <td>...</td>\n",
       "      <td>120.70</td>\n",
       "      <td>82.73M</td>\n",
       "      <td>-2.36%</td>\n",
       "      <td>09-May-24</td>\n",
       "      <td>47976.35</td>\n",
       "      <td>48258.65</td>\n",
       "      <td>47440.65</td>\n",
       "      <td>47487.90</td>\n",
       "      <td>272914366</td>\n",
       "      <td>13331.32</td>\n",
       "    </tr>\n",
       "    <tr>\n",
       "      <th>1</th>\n",
       "      <td>09-05-2024</td>\n",
       "      <td>1,641.70</td>\n",
       "      <td>1,648.15</td>\n",
       "      <td>1,661.80</td>\n",
       "      <td>1,637.10</td>\n",
       "      <td>4.66M</td>\n",
       "      <td>-0.40%</td>\n",
       "      <td>09-05-2024</td>\n",
       "      <td>1,115.70</td>\n",
       "      <td>1,120.55</td>\n",
       "      <td>...</td>\n",
       "      <td>122.15</td>\n",
       "      <td>70.86M</td>\n",
       "      <td>2.29%</td>\n",
       "      <td>08-May-24</td>\n",
       "      <td>48124.20</td>\n",
       "      <td>48223.05</td>\n",
       "      <td>47851.15</td>\n",
       "      <td>48021.10</td>\n",
       "      <td>286041100</td>\n",
       "      <td>13795.53</td>\n",
       "    </tr>\n",
       "    <tr>\n",
       "      <th>2</th>\n",
       "      <td>08-05-2024</td>\n",
       "      <td>1,648.35</td>\n",
       "      <td>1,640.00</td>\n",
       "      <td>1,657.45</td>\n",
       "      <td>1,636.10</td>\n",
       "      <td>9.85M</td>\n",
       "      <td>0.26%</td>\n",
       "      <td>08-05-2024</td>\n",
       "      <td>1,126.50</td>\n",
       "      <td>1,128.45</td>\n",
       "      <td>...</td>\n",
       "      <td>120.75</td>\n",
       "      <td>86.24M</td>\n",
       "      <td>-3.78%</td>\n",
       "      <td>07-May-24</td>\n",
       "      <td>48965.05</td>\n",
       "      <td>49023.50</td>\n",
       "      <td>48213.75</td>\n",
       "      <td>48285.35</td>\n",
       "      <td>230306618</td>\n",
       "      <td>10179.38</td>\n",
       "    </tr>\n",
       "    <tr>\n",
       "      <th>3</th>\n",
       "      <td>07-05-2024</td>\n",
       "      <td>1,644.00</td>\n",
       "      <td>1,626.30</td>\n",
       "      <td>1,647.30</td>\n",
       "      <td>1,618.15</td>\n",
       "      <td>9.87M</td>\n",
       "      <td>1.20%</td>\n",
       "      <td>07-05-2024</td>\n",
       "      <td>1,130.80</td>\n",
       "      <td>1,148.25</td>\n",
       "      <td>...</td>\n",
       "      <td>126.40</td>\n",
       "      <td>144.40M</td>\n",
       "      <td>-6.41%</td>\n",
       "      <td>06-May-24</td>\n",
       "      <td>49174.55</td>\n",
       "      <td>49252.65</td>\n",
       "      <td>48784.00</td>\n",
       "      <td>48895.30</td>\n",
       "      <td>340187386</td>\n",
       "      <td>15200.24</td>\n",
       "    </tr>\n",
       "    <tr>\n",
       "      <th>4</th>\n",
       "      <td>06-05-2024</td>\n",
       "      <td>1,624.50</td>\n",
       "      <td>1,601.65</td>\n",
       "      <td>1,633.00</td>\n",
       "      <td>1,595.95</td>\n",
       "      <td>21.60M</td>\n",
       "      <td>5.03%</td>\n",
       "      <td>06-05-2024</td>\n",
       "      <td>1,149.00</td>\n",
       "      <td>1,141.75</td>\n",
       "      <td>...</td>\n",
       "      <td>134.25</td>\n",
       "      <td>61.35M</td>\n",
       "      <td>-1.63%</td>\n",
       "      <td>03-May-24</td>\n",
       "      <td>49375.05</td>\n",
       "      <td>49607.75</td>\n",
       "      <td>48659.70</td>\n",
       "      <td>48923.55</td>\n",
       "      <td>222964426</td>\n",
       "      <td>12837.75</td>\n",
       "    </tr>\n",
       "  </tbody>\n",
       "</table>\n",
       "<p>5 rows × 182 columns</p>\n",
       "</div>"
      ],
      "text/plain": [
       "         Date     Price      Open      High       Low    Vol. Change %  \\\n",
       "0  10-05-2024  1,622.40  1,638.45  1,652.75  1,616.15  11.76M   -1.18%   \n",
       "1  09-05-2024  1,641.70  1,648.15  1,661.80  1,637.10   4.66M   -0.40%   \n",
       "2  08-05-2024  1,648.35  1,640.00  1,657.45  1,636.10   9.85M    0.26%   \n",
       "3  07-05-2024  1,644.00  1,626.30  1,647.30  1,618.15   9.87M    1.20%   \n",
       "4  06-05-2024  1,624.50  1,601.65  1,633.00  1,595.95  21.60M    5.03%   \n",
       "\n",
       "      IC_Date  IC_Price   IC_Open  ... Next_pn_Low Next_pn_Vol.  \\\n",
       "0  10-05-2024  1,118.30  1,117.85  ...      120.70       82.73M   \n",
       "1  09-05-2024  1,115.70  1,120.55  ...      122.15       70.86M   \n",
       "2  08-05-2024  1,126.50  1,128.45  ...      120.75       86.24M   \n",
       "3  07-05-2024  1,130.80  1,148.25  ...      126.40      144.40M   \n",
       "4  06-05-2024  1,149.00  1,141.75  ...      134.25       61.35M   \n",
       "\n",
       "  Next_pn_Change % Next_bank_Date Next_bank_Open  Next_bank_High  \\\n",
       "0           -2.36%      09-May-24       47976.35        48258.65   \n",
       "1            2.29%      08-May-24       48124.20        48223.05   \n",
       "2           -3.78%      07-May-24       48965.05        49023.50   \n",
       "3           -6.41%      06-May-24       49174.55        49252.65   \n",
       "4           -1.63%      03-May-24       49375.05        49607.75   \n",
       "\n",
       "   Next_bank_Low  Next_bank_Close  Next_bank_Shares Traded   \\\n",
       "0       47440.65         47487.90                 272914366   \n",
       "1       47851.15         48021.10                 286041100   \n",
       "2       48213.75         48285.35                 230306618   \n",
       "3       48784.00         48895.30                 340187386   \n",
       "4       48659.70         48923.55                 222964426   \n",
       "\n",
       "  Next_bank_Turnover (? Cr)  \n",
       "0                  13331.32  \n",
       "1                  13795.53  \n",
       "2                  10179.38  \n",
       "3                  15200.24  \n",
       "4                  12837.75  \n",
       "\n",
       "[5 rows x 182 columns]"
      ]
     },
     "execution_count": 4,
     "metadata": {},
     "output_type": "execute_result"
    }
   ],
   "source": [
    "df.head()"
   ]
  },
  {
   "cell_type": "code",
   "execution_count": 17,
   "metadata": {},
   "outputs": [
    {
     "data": {
      "text/plain": [
       "Date                         0\n",
       "Price                        0\n",
       "Open                         0\n",
       "High                         0\n",
       "Low                          0\n",
       "                            ..\n",
       "Next_bank_High               0\n",
       "Next_bank_Low                0\n",
       "Next_bank_Close              0\n",
       "Next_bank_Shares Traded      0\n",
       "Next_bank_Turnover (? Cr)    0\n",
       "Length: 182, dtype: int64"
      ]
     },
     "execution_count": 17,
     "metadata": {},
     "output_type": "execute_result"
    }
   ],
   "source": [
    "df.isna().sum()"
   ]
  },
  {
   "cell_type": "code",
   "execution_count": 19,
   "metadata": {},
   "outputs": [
    {
     "data": {
      "text/plain": [
       "182"
      ]
     },
     "execution_count": 19,
     "metadata": {},
     "output_type": "execute_result"
    }
   ],
   "source": [
    "len(df.columns)"
   ]
  },
  {
   "cell_type": "code",
   "execution_count": 20,
   "metadata": {},
   "outputs": [
    {
     "data": {
      "text/plain": [
       "182"
      ]
     },
     "execution_count": 20,
     "metadata": {},
     "output_type": "execute_result"
    }
   ],
   "source": [
    "len(df.dropna(axis=0).columns)"
   ]
  },
  {
   "cell_type": "code",
   "execution_count": 21,
   "metadata": {},
   "outputs": [],
   "source": [
    "df = df.dropna(axis=0)"
   ]
  },
  {
   "cell_type": "code",
   "execution_count": 23,
   "metadata": {},
   "outputs": [
    {
     "name": "stdout",
     "output_type": "stream",
     "text": [
      "[0, 0, 0, 0, 0, 0, 0, 0, 0, 0, 0, 0, 0, 0, 0, 0, 0, 0, 0, 0, 0, 0, 0, 0, 0, 0, 0, 0, 0, 0, 0, 0, 0, 0, 0, 0, 0, 0, 0, 0, 0, 0, 0, 0, 0, 0, 0, 0, 0, 0, 0, 0, 0, 0, 0, 0, 0, 0, 0, 0, 0, 0, 0, 0, 0, 0, 0, 0, 0, 0, 0, 0, 0, 0, 0, 0, 0, 0, 0, 0, 0, 0, 0, 0, 0, 0, 0, 0, 0, 0, 0, 0, 0, 0, 0, 0, 0, 0, 0, 0, 0, 0, 0, 0, 0, 0, 0, 0, 0, 0, 0, 0, 0, 0, 0, 0, 0, 0, 0, 0, 0, 0, 0, 0, 0, 0, 0, 0, 0, 0, 0, 0, 0, 0, 0, 0, 0, 0, 0, 0, 0, 0, 0, 0, 0, 0, 0, 0, 0, 0, 0, 0, 0, 0, 0, 0, 0, 0, 0, 0, 0, 0, 0, 0, 0, 0, 0, 0, 0, 0, 0, 0, 0, 0, 0, 0, 0, 0, 0, 0, 0, 0]\n"
     ]
    }
   ],
   "source": [
    "print(list(df.isna().sum()))"
   ]
  },
  {
   "cell_type": "code",
   "execution_count": 4,
   "metadata": {},
   "outputs": [
    {
     "name": "stdout",
     "output_type": "stream",
     "text": [
      "<class 'pandas.core.frame.DataFrame'>\n",
      "RangeIndex: 1511 entries, 0 to 1510\n",
      "Columns: 182 entries, Date to Next_bank_Turnover (? Cr)\n",
      "dtypes: float64(66), int64(2), object(114)\n",
      "memory usage: 2.1+ MB\n"
     ]
    }
   ],
   "source": [
    "df.info()"
   ]
  },
  {
   "cell_type": "code",
   "execution_count": 25,
   "metadata": {},
   "outputs": [
    {
     "data": {
      "text/plain": [
       "182"
      ]
     },
     "execution_count": 25,
     "metadata": {},
     "output_type": "execute_result"
    }
   ],
   "source": [
    "len(df.columns)"
   ]
  },
  {
   "cell_type": "code",
   "execution_count": 35,
   "metadata": {},
   "outputs": [
    {
     "name": "stdout",
     "output_type": "stream",
     "text": [
      "{'Date': dtype('O'), 'Price': dtype('O'), 'Open': dtype('O'), 'High': dtype('O'), 'Low': dtype('O'), 'Vol.': dtype('O'), 'Change %': dtype('O'), 'IC_Date': dtype('O'), 'IC_Price': dtype('O'), 'IC_Open': dtype('O'), 'IC_High': dtype('O'), 'IC_Low': dtype('O'), 'IC_Vol.': dtype('O'), 'IC_Change %': dtype('O'), 'Sb_Date': dtype('O'), 'Sb_Price': dtype('float64'), 'Sb_Open': dtype('float64'), 'Sb_High': dtype('float64'), 'Sb_Low': dtype('float64'), 'Sb_Vol.': dtype('O'), 'Sb_Change %': dtype('O'), 'axi_Date': dtype('O'), 'axi_Price': dtype('O'), 'axi_Open': dtype('O'), 'axi_High': dtype('O'), 'axi_Low': dtype('O'), 'axi_Vol.': dtype('O'), 'axi_Change %': dtype('O'), 'hdf_Date': dtype('O'), 'hdf_Price': dtype('O'), 'hdf_Open': dtype('O'), 'hdf_High': dtype('O'), 'hdf_Low': dtype('O'), 'hdf_Vol.': dtype('O'), 'hdf_Change %': dtype('O'), 'indu_Date': dtype('O'), 'indu_Price': dtype('O'), 'indu_Open': dtype('O'), 'indu_High': dtype('O'), 'indu_Low': dtype('O'), 'indu_Vol.': dtype('O'), 'indu_Change %': dtype('O'), 'auf_Date': dtype('O'), 'auf_Price': dtype('float64'), 'auf_Open': dtype('float64'), 'auf_High': dtype('float64'), 'auf_Low': dtype('float64'), 'auf_Vol.': dtype('O'), 'auf_Change %': dtype('O'), 'ban_Date': dtype('O'), 'ban_Price': dtype('float64'), 'ban_Open': dtype('float64'), 'ban_High': dtype('float64'), 'ban_Low': dtype('float64'), 'ban_Vol.': dtype('O'), 'ban_Change %': dtype('O'), 'bob_Date': dtype('O'), 'bob_Price': dtype('float64'), 'bob_Open': dtype('float64'), 'bob_High': dtype('float64'), 'bob_Low': dtype('float64'), 'bob_Vol.': dtype('O'), 'bob_Change %': dtype('O'), 'feb_Date': dtype('O'), 'feb_Price': dtype('float64'), 'feb_Open': dtype('float64'), 'feb_High': dtype('float64'), 'feb_Low': dtype('float64'), 'feb_Vol.': dtype('O'), 'feb_Change %': dtype('O'), 'hdf_Date.1': dtype('O'), 'hdf_Price.1': dtype('float64'), 'hdf_Open.1': dtype('float64'), 'hdf_High.1': dtype('float64'), 'hdf_Low.1': dtype('float64'), 'hdf_Vol..1': dtype('O'), 'hdf_Change %.1': dtype('O'), 'pn_Date': dtype('O'), 'pn_Price': dtype('float64'), 'pn_Open': dtype('float64'), 'pn_High': dtype('float64'), 'pn_Low': dtype('float64'), 'pn_Vol.': dtype('O'), 'pn_Change %': dtype('O'), 'bank_Date': dtype('O'), 'bank_Open': dtype('float64'), 'bank_High': dtype('float64'), 'bank_Low': dtype('float64'), 'bank_Close': dtype('float64'), 'bank_Shares Traded ': dtype('int64'), 'bank_Turnover (? Cr)': dtype('float64'), 'Next_Date': dtype('O'), 'Next_Price': dtype('O'), 'Next_Open': dtype('O'), 'Next_High': dtype('O'), 'Next_Low': dtype('O'), 'Next_Vol.': dtype('O'), 'Next_Change %': dtype('O'), 'Next_IC_Date': dtype('O'), 'Next_IC_Price': dtype('O'), 'Next_IC_Open': dtype('O'), 'Next_IC_High': dtype('O'), 'Next_IC_Low': dtype('O'), 'Next_IC_Vol.': dtype('O'), 'Next_IC_Change %': dtype('O'), 'Next_Sb_Date': dtype('O'), 'Next_Sb_Price': dtype('float64'), 'Next_Sb_Open': dtype('float64'), 'Next_Sb_High': dtype('float64'), 'Next_Sb_Low': dtype('float64'), 'Next_Sb_Vol.': dtype('O'), 'Next_Sb_Change %': dtype('O'), 'Next_axi_Date': dtype('O'), 'Next_axi_Price': dtype('O'), 'Next_axi_Open': dtype('O'), 'Next_axi_High': dtype('O'), 'Next_axi_Low': dtype('O'), 'Next_axi_Vol.': dtype('O'), 'Next_axi_Change %': dtype('O'), 'Next_hdf_Date': dtype('O'), 'Next_hdf_Price': dtype('O'), 'Next_hdf_Open': dtype('O'), 'Next_hdf_High': dtype('O'), 'Next_hdf_Low': dtype('O'), 'Next_hdf_Vol.': dtype('O'), 'Next_hdf_Change %': dtype('O'), 'Next_indu_Date': dtype('O'), 'Next_indu_Price': dtype('O'), 'Next_indu_Open': dtype('O'), 'Next_indu_High': dtype('O'), 'Next_indu_Low': dtype('O'), 'Next_indu_Vol.': dtype('O'), 'Next_indu_Change %': dtype('O'), 'Next_auf_Date': dtype('O'), 'Next_auf_Price': dtype('float64'), 'Next_auf_Open': dtype('float64'), 'Next_auf_High': dtype('float64'), 'Next_auf_Low': dtype('float64'), 'Next_auf_Vol.': dtype('O'), 'Next_auf_Change %': dtype('O'), 'Next_ban_Date': dtype('O'), 'Next_ban_Price': dtype('float64'), 'Next_ban_Open': dtype('float64'), 'Next_ban_High': dtype('float64'), 'Next_ban_Low': dtype('float64'), 'Next_ban_Vol.': dtype('O'), 'Next_ban_Change %': dtype('O'), 'Next_bob_Date': dtype('O'), 'Next_bob_Price': dtype('float64'), 'Next_bob_Open': dtype('float64'), 'Next_bob_High': dtype('float64'), 'Next_bob_Low': dtype('float64'), 'Next_bob_Vol.': dtype('O'), 'Next_bob_Change %': dtype('O'), 'Next_feb_Date': dtype('O'), 'Next_feb_Price': dtype('float64'), 'Next_feb_Open': dtype('float64'), 'Next_feb_High': dtype('float64'), 'Next_feb_Low': dtype('float64'), 'Next_feb_Vol.': dtype('O'), 'Next_feb_Change %': dtype('O'), 'Next_hdf_Date.1': dtype('O'), 'Next_hdf_Price.1': dtype('float64'), 'Next_hdf_Open.1': dtype('float64'), 'Next_hdf_High.1': dtype('float64'), 'Next_hdf_Low.1': dtype('float64'), 'Next_hdf_Vol..1': dtype('O'), 'Next_hdf_Change %.1': dtype('O'), 'Next_pn_Date': dtype('O'), 'Next_pn_Price': dtype('float64'), 'Next_pn_Open': dtype('float64'), 'Next_pn_High': dtype('float64'), 'Next_pn_Low': dtype('float64'), 'Next_pn_Vol.': dtype('O'), 'Next_pn_Change %': dtype('O'), 'Next_bank_Date': dtype('O'), 'Next_bank_Open': dtype('float64'), 'Next_bank_High': dtype('float64'), 'Next_bank_Low': dtype('float64'), 'Next_bank_Close': dtype('float64'), 'Next_bank_Shares Traded ': dtype('int64'), 'Next_bank_Turnover (? Cr)': dtype('float64')}\n"
     ]
    }
   ],
   "source": [
    "print(dict(df.dtypes))"
   ]
  },
  {
   "cell_type": "code",
   "execution_count": 39,
   "metadata": {},
   "outputs": [],
   "source": [
    "df[\"Date\"]=pd.to_datetime(df[\"Date\"],format=\"%d-%m-%Y\")"
   ]
  },
  {
   "cell_type": "code",
   "execution_count": 40,
   "metadata": {},
   "outputs": [
    {
     "name": "stdout",
     "output_type": "stream",
     "text": [
      "{'Date': dtype('<M8[ns]'), 'Price': dtype('O'), 'Open': dtype('O'), 'High': dtype('O'), 'Low': dtype('O'), 'Vol.': dtype('O'), 'Change %': dtype('O'), 'IC_Date': dtype('O'), 'IC_Price': dtype('O'), 'IC_Open': dtype('O'), 'IC_High': dtype('O'), 'IC_Low': dtype('O'), 'IC_Vol.': dtype('O'), 'IC_Change %': dtype('O'), 'Sb_Date': dtype('O'), 'Sb_Price': dtype('float64'), 'Sb_Open': dtype('float64'), 'Sb_High': dtype('float64'), 'Sb_Low': dtype('float64'), 'Sb_Vol.': dtype('O'), 'Sb_Change %': dtype('O'), 'axi_Date': dtype('O'), 'axi_Price': dtype('O'), 'axi_Open': dtype('O'), 'axi_High': dtype('O'), 'axi_Low': dtype('O'), 'axi_Vol.': dtype('O'), 'axi_Change %': dtype('O'), 'hdf_Date': dtype('O'), 'hdf_Price': dtype('O'), 'hdf_Open': dtype('O'), 'hdf_High': dtype('O'), 'hdf_Low': dtype('O'), 'hdf_Vol.': dtype('O'), 'hdf_Change %': dtype('O'), 'indu_Date': dtype('O'), 'indu_Price': dtype('O'), 'indu_Open': dtype('O'), 'indu_High': dtype('O'), 'indu_Low': dtype('O'), 'indu_Vol.': dtype('O'), 'indu_Change %': dtype('O'), 'auf_Date': dtype('O'), 'auf_Price': dtype('float64'), 'auf_Open': dtype('float64'), 'auf_High': dtype('float64'), 'auf_Low': dtype('float64'), 'auf_Vol.': dtype('O'), 'auf_Change %': dtype('O'), 'ban_Date': dtype('O'), 'ban_Price': dtype('float64'), 'ban_Open': dtype('float64'), 'ban_High': dtype('float64'), 'ban_Low': dtype('float64'), 'ban_Vol.': dtype('O'), 'ban_Change %': dtype('O'), 'bob_Date': dtype('O'), 'bob_Price': dtype('float64'), 'bob_Open': dtype('float64'), 'bob_High': dtype('float64'), 'bob_Low': dtype('float64'), 'bob_Vol.': dtype('O'), 'bob_Change %': dtype('O'), 'feb_Date': dtype('O'), 'feb_Price': dtype('float64'), 'feb_Open': dtype('float64'), 'feb_High': dtype('float64'), 'feb_Low': dtype('float64'), 'feb_Vol.': dtype('O'), 'feb_Change %': dtype('O'), 'hdf_Date.1': dtype('O'), 'hdf_Price.1': dtype('float64'), 'hdf_Open.1': dtype('float64'), 'hdf_High.1': dtype('float64'), 'hdf_Low.1': dtype('float64'), 'hdf_Vol..1': dtype('O'), 'hdf_Change %.1': dtype('O'), 'pn_Date': dtype('O'), 'pn_Price': dtype('float64'), 'pn_Open': dtype('float64'), 'pn_High': dtype('float64'), 'pn_Low': dtype('float64'), 'pn_Vol.': dtype('O'), 'pn_Change %': dtype('O'), 'bank_Date': dtype('O'), 'bank_Open': dtype('float64'), 'bank_High': dtype('float64'), 'bank_Low': dtype('float64'), 'bank_Close': dtype('float64'), 'bank_Shares Traded ': dtype('int64'), 'bank_Turnover (? Cr)': dtype('float64'), 'Next_Date': dtype('O'), 'Next_Price': dtype('O'), 'Next_Open': dtype('O'), 'Next_High': dtype('O'), 'Next_Low': dtype('O'), 'Next_Vol.': dtype('O'), 'Next_Change %': dtype('O'), 'Next_IC_Date': dtype('O'), 'Next_IC_Price': dtype('O'), 'Next_IC_Open': dtype('O'), 'Next_IC_High': dtype('O'), 'Next_IC_Low': dtype('O'), 'Next_IC_Vol.': dtype('O'), 'Next_IC_Change %': dtype('O'), 'Next_Sb_Date': dtype('O'), 'Next_Sb_Price': dtype('float64'), 'Next_Sb_Open': dtype('float64'), 'Next_Sb_High': dtype('float64'), 'Next_Sb_Low': dtype('float64'), 'Next_Sb_Vol.': dtype('O'), 'Next_Sb_Change %': dtype('O'), 'Next_axi_Date': dtype('O'), 'Next_axi_Price': dtype('O'), 'Next_axi_Open': dtype('O'), 'Next_axi_High': dtype('O'), 'Next_axi_Low': dtype('O'), 'Next_axi_Vol.': dtype('O'), 'Next_axi_Change %': dtype('O'), 'Next_hdf_Date': dtype('O'), 'Next_hdf_Price': dtype('O'), 'Next_hdf_Open': dtype('O'), 'Next_hdf_High': dtype('O'), 'Next_hdf_Low': dtype('O'), 'Next_hdf_Vol.': dtype('O'), 'Next_hdf_Change %': dtype('O'), 'Next_indu_Date': dtype('O'), 'Next_indu_Price': dtype('O'), 'Next_indu_Open': dtype('O'), 'Next_indu_High': dtype('O'), 'Next_indu_Low': dtype('O'), 'Next_indu_Vol.': dtype('O'), 'Next_indu_Change %': dtype('O'), 'Next_auf_Date': dtype('O'), 'Next_auf_Price': dtype('float64'), 'Next_auf_Open': dtype('float64'), 'Next_auf_High': dtype('float64'), 'Next_auf_Low': dtype('float64'), 'Next_auf_Vol.': dtype('O'), 'Next_auf_Change %': dtype('O'), 'Next_ban_Date': dtype('O'), 'Next_ban_Price': dtype('float64'), 'Next_ban_Open': dtype('float64'), 'Next_ban_High': dtype('float64'), 'Next_ban_Low': dtype('float64'), 'Next_ban_Vol.': dtype('O'), 'Next_ban_Change %': dtype('O'), 'Next_bob_Date': dtype('O'), 'Next_bob_Price': dtype('float64'), 'Next_bob_Open': dtype('float64'), 'Next_bob_High': dtype('float64'), 'Next_bob_Low': dtype('float64'), 'Next_bob_Vol.': dtype('O'), 'Next_bob_Change %': dtype('O'), 'Next_feb_Date': dtype('O'), 'Next_feb_Price': dtype('float64'), 'Next_feb_Open': dtype('float64'), 'Next_feb_High': dtype('float64'), 'Next_feb_Low': dtype('float64'), 'Next_feb_Vol.': dtype('O'), 'Next_feb_Change %': dtype('O'), 'Next_hdf_Date.1': dtype('O'), 'Next_hdf_Price.1': dtype('float64'), 'Next_hdf_Open.1': dtype('float64'), 'Next_hdf_High.1': dtype('float64'), 'Next_hdf_Low.1': dtype('float64'), 'Next_hdf_Vol..1': dtype('O'), 'Next_hdf_Change %.1': dtype('O'), 'Next_pn_Date': dtype('O'), 'Next_pn_Price': dtype('float64'), 'Next_pn_Open': dtype('float64'), 'Next_pn_High': dtype('float64'), 'Next_pn_Low': dtype('float64'), 'Next_pn_Vol.': dtype('O'), 'Next_pn_Change %': dtype('O'), 'Next_bank_Date': dtype('O'), 'Next_bank_Open': dtype('float64'), 'Next_bank_High': dtype('float64'), 'Next_bank_Low': dtype('float64'), 'Next_bank_Close': dtype('float64'), 'Next_bank_Shares Traded ': dtype('int64'), 'Next_bank_Turnover (? Cr)': dtype('float64')}\n"
     ]
    }
   ],
   "source": [
    "print(dict(df.dtypes))"
   ]
  },
  {
   "cell_type": "code",
   "execution_count": 1,
   "metadata": {},
   "outputs": [],
   "source": [
    "# df[\"Price\"].map(lambda x:float(x))"
   ]
  },
  {
   "cell_type": "code",
   "execution_count": 6,
   "metadata": {},
   "outputs": [
    {
     "data": {
      "text/plain": [
       "0       11.76M\n",
       "1        4.66M\n",
       "2        9.85M\n",
       "3        9.87M\n",
       "4       21.60M\n",
       "         ...  \n",
       "1506     1.20M\n",
       "1507     1.85M\n",
       "1508     1.29M\n",
       "1509     1.99M\n",
       "1510     1.31M\n",
       "Name: Vol., Length: 1511, dtype: object"
      ]
     },
     "execution_count": 6,
     "metadata": {},
     "output_type": "execute_result"
    }
   ],
   "source": [
    "df['Vol.']"
   ]
  },
  {
   "cell_type": "code",
   "execution_count": null,
   "metadata": {},
   "outputs": [],
   "source": []
  }
 ],
 "metadata": {
  "kernelspec": {
   "display_name": "Python 3",
   "language": "python",
   "name": "python3"
  },
  "language_info": {
   "codemirror_mode": {
    "name": "ipython",
    "version": 3
   },
   "file_extension": ".py",
   "mimetype": "text/x-python",
   "name": "python",
   "nbconvert_exporter": "python",
   "pygments_lexer": "ipython3",
   "version": "3.12.1"
  }
 },
 "nbformat": 4,
 "nbformat_minor": 2
}
