{
 "cells": [
  {
   "cell_type": "code",
   "execution_count": 1,
   "metadata": {},
   "outputs": [],
   "source": [
    "import pandas as pd\n",
    "import numpy as np\n",
    "import tensorflow as tf\n",
    "from sklearn.preprocessing import MinMaxScaler\n"
   ]
  },
  {
   "cell_type": "code",
   "execution_count": 8,
   "metadata": {},
   "outputs": [
    {
     "data": {
      "text/html": [
       "<div>\n",
       "<style scoped>\n",
       "    .dataframe tbody tr th:only-of-type {\n",
       "        vertical-align: middle;\n",
       "    }\n",
       "\n",
       "    .dataframe tbody tr th {\n",
       "        vertical-align: top;\n",
       "    }\n",
       "\n",
       "    .dataframe thead th {\n",
       "        text-align: right;\n",
       "    }\n",
       "</style>\n",
       "<table border=\"1\" class=\"dataframe\">\n",
       "  <thead>\n",
       "    <tr style=\"text-align: right;\">\n",
       "      <th></th>\n",
       "      <th>open</th>\n",
       "      <th>high</th>\n",
       "      <th>low</th>\n",
       "      <th>close</th>\n",
       "      <th>volume</th>\n",
       "      <th>next_date</th>\n",
       "      <th>next_open</th>\n",
       "      <th>next_high</th>\n",
       "      <th>next_low</th>\n",
       "      <th>next_close</th>\n",
       "      <th>next_volume</th>\n",
       "    </tr>\n",
       "    <tr>\n",
       "      <th>date</th>\n",
       "      <th></th>\n",
       "      <th></th>\n",
       "      <th></th>\n",
       "      <th></th>\n",
       "      <th></th>\n",
       "      <th></th>\n",
       "      <th></th>\n",
       "      <th></th>\n",
       "      <th></th>\n",
       "      <th></th>\n",
       "      <th></th>\n",
       "    </tr>\n",
       "  </thead>\n",
       "  <tbody>\n",
       "    <tr>\n",
       "      <th>09-01-2015 09:15</th>\n",
       "      <td>8285.45</td>\n",
       "      <td>8295.90</td>\n",
       "      <td>8285.45</td>\n",
       "      <td>8292.10</td>\n",
       "      <td>0</td>\n",
       "      <td>09-01-2015 09:16</td>\n",
       "      <td>8292.60</td>\n",
       "      <td>8293.60</td>\n",
       "      <td>8287.20</td>\n",
       "      <td>8288.15</td>\n",
       "      <td>0</td>\n",
       "    </tr>\n",
       "    <tr>\n",
       "      <th>09-01-2015 09:16</th>\n",
       "      <td>8292.60</td>\n",
       "      <td>8293.60</td>\n",
       "      <td>8287.20</td>\n",
       "      <td>8288.15</td>\n",
       "      <td>0</td>\n",
       "      <td>09-01-2015 09:17</td>\n",
       "      <td>8287.40</td>\n",
       "      <td>8293.90</td>\n",
       "      <td>8287.40</td>\n",
       "      <td>8293.90</td>\n",
       "      <td>0</td>\n",
       "    </tr>\n",
       "    <tr>\n",
       "      <th>09-01-2015 09:17</th>\n",
       "      <td>8287.40</td>\n",
       "      <td>8293.90</td>\n",
       "      <td>8287.40</td>\n",
       "      <td>8293.90</td>\n",
       "      <td>0</td>\n",
       "      <td>09-01-2015 09:18</td>\n",
       "      <td>8294.25</td>\n",
       "      <td>8300.65</td>\n",
       "      <td>8293.90</td>\n",
       "      <td>8300.65</td>\n",
       "      <td>0</td>\n",
       "    </tr>\n",
       "    <tr>\n",
       "      <th>09-01-2015 09:18</th>\n",
       "      <td>8294.25</td>\n",
       "      <td>8300.65</td>\n",
       "      <td>8293.90</td>\n",
       "      <td>8300.65</td>\n",
       "      <td>0</td>\n",
       "      <td>09-01-2015 09:19</td>\n",
       "      <td>8300.60</td>\n",
       "      <td>8301.30</td>\n",
       "      <td>8298.75</td>\n",
       "      <td>8301.20</td>\n",
       "      <td>0</td>\n",
       "    </tr>\n",
       "    <tr>\n",
       "      <th>09-01-2015 09:19</th>\n",
       "      <td>8300.60</td>\n",
       "      <td>8301.30</td>\n",
       "      <td>8298.75</td>\n",
       "      <td>8301.20</td>\n",
       "      <td>0</td>\n",
       "      <td>09-01-2015 09:20</td>\n",
       "      <td>8300.50</td>\n",
       "      <td>8303.00</td>\n",
       "      <td>8298.60</td>\n",
       "      <td>8300.00</td>\n",
       "      <td>0</td>\n",
       "    </tr>\n",
       "  </tbody>\n",
       "</table>\n",
       "</div>"
      ],
      "text/plain": [
       "                     open     high      low    close  volume  \\\n",
       "date                                                           \n",
       "09-01-2015 09:15  8285.45  8295.90  8285.45  8292.10       0   \n",
       "09-01-2015 09:16  8292.60  8293.60  8287.20  8288.15       0   \n",
       "09-01-2015 09:17  8287.40  8293.90  8287.40  8293.90       0   \n",
       "09-01-2015 09:18  8294.25  8300.65  8293.90  8300.65       0   \n",
       "09-01-2015 09:19  8300.60  8301.30  8298.75  8301.20       0   \n",
       "\n",
       "                         next_date  next_open  next_high  next_low  \\\n",
       "date                                                                 \n",
       "09-01-2015 09:15  09-01-2015 09:16    8292.60    8293.60   8287.20   \n",
       "09-01-2015 09:16  09-01-2015 09:17    8287.40    8293.90   8287.40   \n",
       "09-01-2015 09:17  09-01-2015 09:18    8294.25    8300.65   8293.90   \n",
       "09-01-2015 09:18  09-01-2015 09:19    8300.60    8301.30   8298.75   \n",
       "09-01-2015 09:19  09-01-2015 09:20    8300.50    8303.00   8298.60   \n",
       "\n",
       "                  next_close  next_volume  \n",
       "date                                       \n",
       "09-01-2015 09:15     8288.15            0  \n",
       "09-01-2015 09:16     8293.90            0  \n",
       "09-01-2015 09:17     8300.65            0  \n",
       "09-01-2015 09:18     8301.20            0  \n",
       "09-01-2015 09:19     8300.00            0  "
      ]
     },
     "execution_count": 8,
     "metadata": {},
     "output_type": "execute_result"
    }
   ],
   "source": [
    "df=pd.read_csv(\"../../data/NIFTY 50 - Minute data2.csv\",index_col=\"date\",parse_dates=True)\n",
    "df.head()"
   ]
  },
  {
   "cell_type": "code",
   "execution_count": 29,
   "metadata": {},
   "outputs": [],
   "source": [
    "def set_to_periodic(data , duration=10):\n",
    "    sequencial_x_data=[]\n",
    "    for i in range(len(data)-duration):\n",
    "        sequencial_x_data.append(data[i:i+duration].to_numpy().tolist())\n",
    "    return sequencial_x_data"
   ]
  },
  {
   "cell_type": "code",
   "execution_count": 9,
   "metadata": {},
   "outputs": [
    {
     "data": {
      "text/plain": [
       "open           float64\n",
       "high           float64\n",
       "low            float64\n",
       "close          float64\n",
       "volume           int64\n",
       "next_date       object\n",
       "next_open      float64\n",
       "next_high      float64\n",
       "next_low       float64\n",
       "next_close     float64\n",
       "next_volume      int64\n",
       "dtype: object"
      ]
     },
     "execution_count": 9,
     "metadata": {},
     "output_type": "execute_result"
    }
   ],
   "source": [
    "df.dtypes"
   ]
  },
  {
   "cell_type": "code",
   "execution_count": 6,
   "metadata": {},
   "outputs": [
    {
     "data": {
      "text/plain": [
       "date           0\n",
       "open           0\n",
       "high           0\n",
       "low            0\n",
       "close          0\n",
       "volume         0\n",
       "next_date      0\n",
       "next_open      0\n",
       "next_high      0\n",
       "next_low       0\n",
       "next_close     0\n",
       "next_volume    0\n",
       "dtype: int64"
      ]
     },
     "execution_count": 6,
     "metadata": {},
     "output_type": "execute_result"
    }
   ],
   "source": [
    "df.isna().sum()"
   ]
  },
  {
   "cell_type": "code",
   "execution_count": 11,
   "metadata": {},
   "outputs": [
    {
     "data": {
      "text/html": [
       "<div>\n",
       "<style scoped>\n",
       "    .dataframe tbody tr th:only-of-type {\n",
       "        vertical-align: middle;\n",
       "    }\n",
       "\n",
       "    .dataframe tbody tr th {\n",
       "        vertical-align: top;\n",
       "    }\n",
       "\n",
       "    .dataframe thead th {\n",
       "        text-align: right;\n",
       "    }\n",
       "</style>\n",
       "<table border=\"1\" class=\"dataframe\">\n",
       "  <thead>\n",
       "    <tr style=\"text-align: right;\">\n",
       "      <th></th>\n",
       "      <th>open</th>\n",
       "      <th>high</th>\n",
       "      <th>low</th>\n",
       "      <th>close</th>\n",
       "    </tr>\n",
       "    <tr>\n",
       "      <th>date</th>\n",
       "      <th></th>\n",
       "      <th></th>\n",
       "      <th></th>\n",
       "      <th></th>\n",
       "    </tr>\n",
       "  </thead>\n",
       "  <tbody>\n",
       "    <tr>\n",
       "      <th>09-01-2015 09:15</th>\n",
       "      <td>8285.45</td>\n",
       "      <td>8295.90</td>\n",
       "      <td>8285.45</td>\n",
       "      <td>8292.10</td>\n",
       "    </tr>\n",
       "    <tr>\n",
       "      <th>09-01-2015 09:16</th>\n",
       "      <td>8292.60</td>\n",
       "      <td>8293.60</td>\n",
       "      <td>8287.20</td>\n",
       "      <td>8288.15</td>\n",
       "    </tr>\n",
       "    <tr>\n",
       "      <th>09-01-2015 09:17</th>\n",
       "      <td>8287.40</td>\n",
       "      <td>8293.90</td>\n",
       "      <td>8287.40</td>\n",
       "      <td>8293.90</td>\n",
       "    </tr>\n",
       "    <tr>\n",
       "      <th>09-01-2015 09:18</th>\n",
       "      <td>8294.25</td>\n",
       "      <td>8300.65</td>\n",
       "      <td>8293.90</td>\n",
       "      <td>8300.65</td>\n",
       "    </tr>\n",
       "    <tr>\n",
       "      <th>09-01-2015 09:19</th>\n",
       "      <td>8300.60</td>\n",
       "      <td>8301.30</td>\n",
       "      <td>8298.75</td>\n",
       "      <td>8301.20</td>\n",
       "    </tr>\n",
       "  </tbody>\n",
       "</table>\n",
       "</div>"
      ],
      "text/plain": [
       "                     open     high      low    close\n",
       "date                                                \n",
       "09-01-2015 09:15  8285.45  8295.90  8285.45  8292.10\n",
       "09-01-2015 09:16  8292.60  8293.60  8287.20  8288.15\n",
       "09-01-2015 09:17  8287.40  8293.90  8287.40  8293.90\n",
       "09-01-2015 09:18  8294.25  8300.65  8293.90  8300.65\n",
       "09-01-2015 09:19  8300.60  8301.30  8298.75  8301.20"
      ]
     },
     "execution_count": 11,
     "metadata": {},
     "output_type": "execute_result"
    }
   ],
   "source": [
    "X=df[[\"open\",\"high\",\"low\",\"close\"]]\n",
    "X.head()"
   ]
  },
  {
   "cell_type": "code",
   "execution_count": 16,
   "metadata": {},
   "outputs": [
    {
     "data": {
      "text/html": [
       "<div>\n",
       "<style scoped>\n",
       "    .dataframe tbody tr th:only-of-type {\n",
       "        vertical-align: middle;\n",
       "    }\n",
       "\n",
       "    .dataframe tbody tr th {\n",
       "        vertical-align: top;\n",
       "    }\n",
       "\n",
       "    .dataframe thead th {\n",
       "        text-align: right;\n",
       "    }\n",
       "</style>\n",
       "<table border=\"1\" class=\"dataframe\">\n",
       "  <thead>\n",
       "    <tr style=\"text-align: right;\">\n",
       "      <th></th>\n",
       "      <th>open</th>\n",
       "      <th>high</th>\n",
       "      <th>low</th>\n",
       "      <th>close</th>\n",
       "      <th>volume</th>\n",
       "      <th>next_date</th>\n",
       "      <th>next_open</th>\n",
       "      <th>next_high</th>\n",
       "      <th>next_low</th>\n",
       "      <th>next_close</th>\n",
       "      <th>next_volume</th>\n",
       "      <th>is_incres</th>\n",
       "    </tr>\n",
       "    <tr>\n",
       "      <th>date</th>\n",
       "      <th></th>\n",
       "      <th></th>\n",
       "      <th></th>\n",
       "      <th></th>\n",
       "      <th></th>\n",
       "      <th></th>\n",
       "      <th></th>\n",
       "      <th></th>\n",
       "      <th></th>\n",
       "      <th></th>\n",
       "      <th></th>\n",
       "      <th></th>\n",
       "    </tr>\n",
       "  </thead>\n",
       "  <tbody>\n",
       "    <tr>\n",
       "      <th>09-01-2015 09:15</th>\n",
       "      <td>8285.45</td>\n",
       "      <td>8295.90</td>\n",
       "      <td>8285.45</td>\n",
       "      <td>8292.10</td>\n",
       "      <td>0</td>\n",
       "      <td>09-01-2015 09:16</td>\n",
       "      <td>8292.60</td>\n",
       "      <td>8293.60</td>\n",
       "      <td>8287.20</td>\n",
       "      <td>8288.15</td>\n",
       "      <td>0</td>\n",
       "      <td>0</td>\n",
       "    </tr>\n",
       "    <tr>\n",
       "      <th>09-01-2015 09:16</th>\n",
       "      <td>8292.60</td>\n",
       "      <td>8293.60</td>\n",
       "      <td>8287.20</td>\n",
       "      <td>8288.15</td>\n",
       "      <td>0</td>\n",
       "      <td>09-01-2015 09:17</td>\n",
       "      <td>8287.40</td>\n",
       "      <td>8293.90</td>\n",
       "      <td>8287.40</td>\n",
       "      <td>8293.90</td>\n",
       "      <td>0</td>\n",
       "      <td>1</td>\n",
       "    </tr>\n",
       "    <tr>\n",
       "      <th>09-01-2015 09:17</th>\n",
       "      <td>8287.40</td>\n",
       "      <td>8293.90</td>\n",
       "      <td>8287.40</td>\n",
       "      <td>8293.90</td>\n",
       "      <td>0</td>\n",
       "      <td>09-01-2015 09:18</td>\n",
       "      <td>8294.25</td>\n",
       "      <td>8300.65</td>\n",
       "      <td>8293.90</td>\n",
       "      <td>8300.65</td>\n",
       "      <td>0</td>\n",
       "      <td>1</td>\n",
       "    </tr>\n",
       "    <tr>\n",
       "      <th>09-01-2015 09:18</th>\n",
       "      <td>8294.25</td>\n",
       "      <td>8300.65</td>\n",
       "      <td>8293.90</td>\n",
       "      <td>8300.65</td>\n",
       "      <td>0</td>\n",
       "      <td>09-01-2015 09:19</td>\n",
       "      <td>8300.60</td>\n",
       "      <td>8301.30</td>\n",
       "      <td>8298.75</td>\n",
       "      <td>8301.20</td>\n",
       "      <td>0</td>\n",
       "      <td>1</td>\n",
       "    </tr>\n",
       "    <tr>\n",
       "      <th>09-01-2015 09:19</th>\n",
       "      <td>8300.60</td>\n",
       "      <td>8301.30</td>\n",
       "      <td>8298.75</td>\n",
       "      <td>8301.20</td>\n",
       "      <td>0</td>\n",
       "      <td>09-01-2015 09:20</td>\n",
       "      <td>8300.50</td>\n",
       "      <td>8303.00</td>\n",
       "      <td>8298.60</td>\n",
       "      <td>8300.00</td>\n",
       "      <td>0</td>\n",
       "      <td>0</td>\n",
       "    </tr>\n",
       "    <tr>\n",
       "      <th>...</th>\n",
       "      <td>...</td>\n",
       "      <td>...</td>\n",
       "      <td>...</td>\n",
       "      <td>...</td>\n",
       "      <td>...</td>\n",
       "      <td>...</td>\n",
       "      <td>...</td>\n",
       "      <td>...</td>\n",
       "      <td>...</td>\n",
       "      <td>...</td>\n",
       "      <td>...</td>\n",
       "      <td>...</td>\n",
       "    </tr>\n",
       "    <tr>\n",
       "      <th>25-01-2024 15:24</th>\n",
       "      <td>21364.90</td>\n",
       "      <td>21380.35</td>\n",
       "      <td>21363.20</td>\n",
       "      <td>21378.20</td>\n",
       "      <td>0</td>\n",
       "      <td>25-01-2024 15:25</td>\n",
       "      <td>21376.55</td>\n",
       "      <td>21378.90</td>\n",
       "      <td>21372.75</td>\n",
       "      <td>21377.95</td>\n",
       "      <td>0</td>\n",
       "      <td>1</td>\n",
       "    </tr>\n",
       "    <tr>\n",
       "      <th>25-01-2024 15:25</th>\n",
       "      <td>21376.55</td>\n",
       "      <td>21378.90</td>\n",
       "      <td>21372.75</td>\n",
       "      <td>21377.95</td>\n",
       "      <td>0</td>\n",
       "      <td>25-01-2024 15:26</td>\n",
       "      <td>21376.55</td>\n",
       "      <td>21386.10</td>\n",
       "      <td>21375.80</td>\n",
       "      <td>21384.20</td>\n",
       "      <td>0</td>\n",
       "      <td>1</td>\n",
       "    </tr>\n",
       "    <tr>\n",
       "      <th>25-01-2024 15:26</th>\n",
       "      <td>21376.55</td>\n",
       "      <td>21386.10</td>\n",
       "      <td>21375.80</td>\n",
       "      <td>21384.20</td>\n",
       "      <td>0</td>\n",
       "      <td>25-01-2024 15:27</td>\n",
       "      <td>21384.75</td>\n",
       "      <td>21401.75</td>\n",
       "      <td>21381.30</td>\n",
       "      <td>21394.15</td>\n",
       "      <td>0</td>\n",
       "      <td>1</td>\n",
       "    </tr>\n",
       "    <tr>\n",
       "      <th>25-01-2024 15:27</th>\n",
       "      <td>21384.75</td>\n",
       "      <td>21401.75</td>\n",
       "      <td>21381.30</td>\n",
       "      <td>21394.15</td>\n",
       "      <td>0</td>\n",
       "      <td>25-01-2024 15:28</td>\n",
       "      <td>21392.70</td>\n",
       "      <td>21396.25</td>\n",
       "      <td>21384.25</td>\n",
       "      <td>21395.70</td>\n",
       "      <td>0</td>\n",
       "      <td>1</td>\n",
       "    </tr>\n",
       "    <tr>\n",
       "      <th>25-01-2024 15:28</th>\n",
       "      <td>21392.70</td>\n",
       "      <td>21396.25</td>\n",
       "      <td>21384.25</td>\n",
       "      <td>21395.70</td>\n",
       "      <td>0</td>\n",
       "      <td>25-01-2024 15:29</td>\n",
       "      <td>21391.75</td>\n",
       "      <td>21391.95</td>\n",
       "      <td>21367.40</td>\n",
       "      <td>21370.75</td>\n",
       "      <td>0</td>\n",
       "      <td>0</td>\n",
       "    </tr>\n",
       "  </tbody>\n",
       "</table>\n",
       "<p>836756 rows × 12 columns</p>\n",
       "</div>"
      ],
      "text/plain": [
       "                      open      high       low     close  volume  \\\n",
       "date                                                               \n",
       "09-01-2015 09:15   8285.45   8295.90   8285.45   8292.10       0   \n",
       "09-01-2015 09:16   8292.60   8293.60   8287.20   8288.15       0   \n",
       "09-01-2015 09:17   8287.40   8293.90   8287.40   8293.90       0   \n",
       "09-01-2015 09:18   8294.25   8300.65   8293.90   8300.65       0   \n",
       "09-01-2015 09:19   8300.60   8301.30   8298.75   8301.20       0   \n",
       "...                    ...       ...       ...       ...     ...   \n",
       "25-01-2024 15:24  21364.90  21380.35  21363.20  21378.20       0   \n",
       "25-01-2024 15:25  21376.55  21378.90  21372.75  21377.95       0   \n",
       "25-01-2024 15:26  21376.55  21386.10  21375.80  21384.20       0   \n",
       "25-01-2024 15:27  21384.75  21401.75  21381.30  21394.15       0   \n",
       "25-01-2024 15:28  21392.70  21396.25  21384.25  21395.70       0   \n",
       "\n",
       "                         next_date  next_open  next_high  next_low  \\\n",
       "date                                                                 \n",
       "09-01-2015 09:15  09-01-2015 09:16    8292.60    8293.60   8287.20   \n",
       "09-01-2015 09:16  09-01-2015 09:17    8287.40    8293.90   8287.40   \n",
       "09-01-2015 09:17  09-01-2015 09:18    8294.25    8300.65   8293.90   \n",
       "09-01-2015 09:18  09-01-2015 09:19    8300.60    8301.30   8298.75   \n",
       "09-01-2015 09:19  09-01-2015 09:20    8300.50    8303.00   8298.60   \n",
       "...                            ...        ...        ...       ...   \n",
       "25-01-2024 15:24  25-01-2024 15:25   21376.55   21378.90  21372.75   \n",
       "25-01-2024 15:25  25-01-2024 15:26   21376.55   21386.10  21375.80   \n",
       "25-01-2024 15:26  25-01-2024 15:27   21384.75   21401.75  21381.30   \n",
       "25-01-2024 15:27  25-01-2024 15:28   21392.70   21396.25  21384.25   \n",
       "25-01-2024 15:28  25-01-2024 15:29   21391.75   21391.95  21367.40   \n",
       "\n",
       "                  next_close  next_volume  is_incres  \n",
       "date                                                  \n",
       "09-01-2015 09:15     8288.15            0          0  \n",
       "09-01-2015 09:16     8293.90            0          1  \n",
       "09-01-2015 09:17     8300.65            0          1  \n",
       "09-01-2015 09:18     8301.20            0          1  \n",
       "09-01-2015 09:19     8300.00            0          0  \n",
       "...                      ...          ...        ...  \n",
       "25-01-2024 15:24    21377.95            0          1  \n",
       "25-01-2024 15:25    21384.20            0          1  \n",
       "25-01-2024 15:26    21394.15            0          1  \n",
       "25-01-2024 15:27    21395.70            0          1  \n",
       "25-01-2024 15:28    21370.75            0          0  \n",
       "\n",
       "[836756 rows x 12 columns]"
      ]
     },
     "execution_count": 16,
     "metadata": {},
     "output_type": "execute_result"
    }
   ],
   "source": [
    "df[\"is_incres\"]= (df[\"next_close\"]-df[\"next_open\"]).map(lambda x:1 if x>0 else 0)\n",
    "df"
   ]
  },
  {
   "cell_type": "code",
   "execution_count": 19,
   "metadata": {},
   "outputs": [
    {
     "data": {
      "text/plain": [
       "date\n",
       "09-01-2015 09:15    0\n",
       "09-01-2015 09:16    1\n",
       "09-01-2015 09:17    1\n",
       "09-01-2015 09:18    1\n",
       "09-01-2015 09:19    0\n",
       "                   ..\n",
       "25-01-2024 15:24    1\n",
       "25-01-2024 15:25    1\n",
       "25-01-2024 15:26    1\n",
       "25-01-2024 15:27    1\n",
       "25-01-2024 15:28    0\n",
       "Name: is_incres, Length: 836756, dtype: int64"
      ]
     },
     "execution_count": 19,
     "metadata": {},
     "output_type": "execute_result"
    }
   ],
   "source": [
    "y=df[\"is_incres\"]\n",
    "y"
   ]
  },
  {
   "cell_type": "code",
   "execution_count": 25,
   "metadata": {},
   "outputs": [],
   "source": [
    "scaler= MinMaxScaler()\n",
    "scale_X=scaler.fit_transform(X[:-10])"
   ]
  },
  {
   "cell_type": "code",
   "execution_count": 24,
   "metadata": {},
   "outputs": [
    {
     "data": {
      "text/plain": [
       "(836756, 4)"
      ]
     },
     "execution_count": 24,
     "metadata": {},
     "output_type": "execute_result"
    }
   ],
   "source": [
    "X.shape"
   ]
  },
  {
   "cell_type": "code",
   "execution_count": 26,
   "metadata": {},
   "outputs": [
    {
     "data": {
      "text/plain": [
       "(836746, 4)"
      ]
     },
     "execution_count": 26,
     "metadata": {},
     "output_type": "execute_result"
    }
   ],
   "source": [
    "scale_X.shape"
   ]
  },
  {
   "cell_type": "code",
   "execution_count": 33,
   "metadata": {},
   "outputs": [],
   "source": [
    "periodic_scale_X=set_to_periodic(pd.DataFrame(scale_X))"
   ]
  },
  {
   "cell_type": "code",
   "execution_count": 43,
   "metadata": {},
   "outputs": [
    {
     "name": "stderr",
     "output_type": "stream",
     "text": [
      "c:\\Users\\baps\\AppData\\Local\\Programs\\Python\\Python312\\Lib\\site-packages\\keras\\src\\layers\\rnn\\rnn.py:204: UserWarning: Do not pass an `input_shape`/`input_dim` argument to a layer. When using Sequential models, prefer using an `Input(shape)` object as the first layer in the model instead.\n",
      "  super().__init__(**kwargs)\n"
     ]
    },
    {
     "data": {
      "text/html": [
       "<pre style=\"white-space:pre;overflow-x:auto;line-height:normal;font-family:Menlo,'DejaVu Sans Mono',consolas,'Courier New',monospace\"><span style=\"font-weight: bold\">Model: \"sequential_1\"</span>\n",
       "</pre>\n"
      ],
      "text/plain": [
       "\u001b[1mModel: \"sequential_1\"\u001b[0m\n"
      ]
     },
     "metadata": {},
     "output_type": "display_data"
    },
    {
     "data": {
      "text/html": [
       "<pre style=\"white-space:pre;overflow-x:auto;line-height:normal;font-family:Menlo,'DejaVu Sans Mono',consolas,'Courier New',monospace\">┏━━━━━━━━━━━━━━━━━━━━━━━━━━━━━━━━━┳━━━━━━━━━━━━━━━━━━━━━━━━┳━━━━━━━━━━━━━━━┓\n",
       "┃<span style=\"font-weight: bold\"> Layer (type)                    </span>┃<span style=\"font-weight: bold\"> Output Shape           </span>┃<span style=\"font-weight: bold\">       Param # </span>┃\n",
       "┡━━━━━━━━━━━━━━━━━━━━━━━━━━━━━━━━━╇━━━━━━━━━━━━━━━━━━━━━━━━╇━━━━━━━━━━━━━━━┩\n",
       "│ lstm_1 (<span style=\"color: #0087ff; text-decoration-color: #0087ff\">LSTM</span>)                   │ (<span style=\"color: #00d7ff; text-decoration-color: #00d7ff\">None</span>, <span style=\"color: #00af00; text-decoration-color: #00af00\">100</span>)            │        <span style=\"color: #00af00; text-decoration-color: #00af00\">42,000</span> │\n",
       "├─────────────────────────────────┼────────────────────────┼───────────────┤\n",
       "│ dense_1 (<span style=\"color: #0087ff; text-decoration-color: #0087ff\">Dense</span>)                 │ (<span style=\"color: #00d7ff; text-decoration-color: #00d7ff\">None</span>, <span style=\"color: #00af00; text-decoration-color: #00af00\">1</span>)              │           <span style=\"color: #00af00; text-decoration-color: #00af00\">101</span> │\n",
       "└─────────────────────────────────┴────────────────────────┴───────────────┘\n",
       "</pre>\n"
      ],
      "text/plain": [
       "┏━━━━━━━━━━━━━━━━━━━━━━━━━━━━━━━━━┳━━━━━━━━━━━━━━━━━━━━━━━━┳━━━━━━━━━━━━━━━┓\n",
       "┃\u001b[1m \u001b[0m\u001b[1mLayer (type)                   \u001b[0m\u001b[1m \u001b[0m┃\u001b[1m \u001b[0m\u001b[1mOutput Shape          \u001b[0m\u001b[1m \u001b[0m┃\u001b[1m \u001b[0m\u001b[1m      Param #\u001b[0m\u001b[1m \u001b[0m┃\n",
       "┡━━━━━━━━━━━━━━━━━━━━━━━━━━━━━━━━━╇━━━━━━━━━━━━━━━━━━━━━━━━╇━━━━━━━━━━━━━━━┩\n",
       "│ lstm_1 (\u001b[38;5;33mLSTM\u001b[0m)                   │ (\u001b[38;5;45mNone\u001b[0m, \u001b[38;5;34m100\u001b[0m)            │        \u001b[38;5;34m42,000\u001b[0m │\n",
       "├─────────────────────────────────┼────────────────────────┼───────────────┤\n",
       "│ dense_1 (\u001b[38;5;33mDense\u001b[0m)                 │ (\u001b[38;5;45mNone\u001b[0m, \u001b[38;5;34m1\u001b[0m)              │           \u001b[38;5;34m101\u001b[0m │\n",
       "└─────────────────────────────────┴────────────────────────┴───────────────┘\n"
      ]
     },
     "metadata": {},
     "output_type": "display_data"
    },
    {
     "data": {
      "text/html": [
       "<pre style=\"white-space:pre;overflow-x:auto;line-height:normal;font-family:Menlo,'DejaVu Sans Mono',consolas,'Courier New',monospace\"><span style=\"font-weight: bold\"> Total params: </span><span style=\"color: #00af00; text-decoration-color: #00af00\">42,101</span> (164.46 KB)\n",
       "</pre>\n"
      ],
      "text/plain": [
       "\u001b[1m Total params: \u001b[0m\u001b[38;5;34m42,101\u001b[0m (164.46 KB)\n"
      ]
     },
     "metadata": {},
     "output_type": "display_data"
    },
    {
     "data": {
      "text/html": [
       "<pre style=\"white-space:pre;overflow-x:auto;line-height:normal;font-family:Menlo,'DejaVu Sans Mono',consolas,'Courier New',monospace\"><span style=\"font-weight: bold\"> Trainable params: </span><span style=\"color: #00af00; text-decoration-color: #00af00\">42,101</span> (164.46 KB)\n",
       "</pre>\n"
      ],
      "text/plain": [
       "\u001b[1m Trainable params: \u001b[0m\u001b[38;5;34m42,101\u001b[0m (164.46 KB)\n"
      ]
     },
     "metadata": {},
     "output_type": "display_data"
    },
    {
     "data": {
      "text/html": [
       "<pre style=\"white-space:pre;overflow-x:auto;line-height:normal;font-family:Menlo,'DejaVu Sans Mono',consolas,'Courier New',monospace\"><span style=\"font-weight: bold\"> Non-trainable params: </span><span style=\"color: #00af00; text-decoration-color: #00af00\">0</span> (0.00 B)\n",
       "</pre>\n"
      ],
      "text/plain": [
       "\u001b[1m Non-trainable params: \u001b[0m\u001b[38;5;34m0\u001b[0m (0.00 B)\n"
      ]
     },
     "metadata": {},
     "output_type": "display_data"
    }
   ],
   "source": [
    "model1=tf.keras.Sequential([\n",
    "    tf.keras.layers.LSTM(100, activation='relu', input_shape=(10, 4)),\n",
    "    tf.keras.layers.Dense(1,activation=\"softmax\")\n",
    "])\n",
    "model1.compile(\n",
    "    loss=\"mse\",\n",
    "    optimizer=\"adam\",\n",
    "    metrics=[\"accuracy\"]\n",
    ")\n",
    "model1.summary()"
   ]
  },
  {
   "cell_type": "code",
   "execution_count": 34,
   "metadata": {},
   "outputs": [
    {
     "data": {
      "text/html": [
       "<div>\n",
       "<style scoped>\n",
       "    .dataframe tbody tr th:only-of-type {\n",
       "        vertical-align: middle;\n",
       "    }\n",
       "\n",
       "    .dataframe tbody tr th {\n",
       "        vertical-align: top;\n",
       "    }\n",
       "\n",
       "    .dataframe thead th {\n",
       "        text-align: right;\n",
       "    }\n",
       "</style>\n",
       "<table border=\"1\" class=\"dataframe\">\n",
       "  <thead>\n",
       "    <tr style=\"text-align: right;\">\n",
       "      <th></th>\n",
       "      <th>is_incres</th>\n",
       "    </tr>\n",
       "    <tr>\n",
       "      <th>date</th>\n",
       "      <th></th>\n",
       "    </tr>\n",
       "  </thead>\n",
       "  <tbody>\n",
       "    <tr>\n",
       "      <th>09-01-2015 09:15</th>\n",
       "      <td>0</td>\n",
       "    </tr>\n",
       "    <tr>\n",
       "      <th>09-01-2015 09:16</th>\n",
       "      <td>1</td>\n",
       "    </tr>\n",
       "    <tr>\n",
       "      <th>09-01-2015 09:17</th>\n",
       "      <td>1</td>\n",
       "    </tr>\n",
       "    <tr>\n",
       "      <th>09-01-2015 09:18</th>\n",
       "      <td>1</td>\n",
       "    </tr>\n",
       "    <tr>\n",
       "      <th>09-01-2015 09:19</th>\n",
       "      <td>0</td>\n",
       "    </tr>\n",
       "    <tr>\n",
       "      <th>...</th>\n",
       "      <td>...</td>\n",
       "    </tr>\n",
       "    <tr>\n",
       "      <th>25-01-2024 15:24</th>\n",
       "      <td>1</td>\n",
       "    </tr>\n",
       "    <tr>\n",
       "      <th>25-01-2024 15:25</th>\n",
       "      <td>1</td>\n",
       "    </tr>\n",
       "    <tr>\n",
       "      <th>25-01-2024 15:26</th>\n",
       "      <td>1</td>\n",
       "    </tr>\n",
       "    <tr>\n",
       "      <th>25-01-2024 15:27</th>\n",
       "      <td>1</td>\n",
       "    </tr>\n",
       "    <tr>\n",
       "      <th>25-01-2024 15:28</th>\n",
       "      <td>0</td>\n",
       "    </tr>\n",
       "  </tbody>\n",
       "</table>\n",
       "<p>836756 rows × 1 columns</p>\n",
       "</div>"
      ],
      "text/plain": [
       "                  is_incres\n",
       "date                       \n",
       "09-01-2015 09:15          0\n",
       "09-01-2015 09:16          1\n",
       "09-01-2015 09:17          1\n",
       "09-01-2015 09:18          1\n",
       "09-01-2015 09:19          0\n",
       "...                     ...\n",
       "25-01-2024 15:24          1\n",
       "25-01-2024 15:25          1\n",
       "25-01-2024 15:26          1\n",
       "25-01-2024 15:27          1\n",
       "25-01-2024 15:28          0\n",
       "\n",
       "[836756 rows x 1 columns]"
      ]
     },
     "execution_count": 34,
     "metadata": {},
     "output_type": "execute_result"
    }
   ],
   "source": [
    "df[[\"is_incres\"]]"
   ]
  },
  {
   "cell_type": "code",
   "execution_count": 36,
   "metadata": {},
   "outputs": [
    {
     "data": {
      "text/html": [
       "<div>\n",
       "<style scoped>\n",
       "    .dataframe tbody tr th:only-of-type {\n",
       "        vertical-align: middle;\n",
       "    }\n",
       "\n",
       "    .dataframe tbody tr th {\n",
       "        vertical-align: top;\n",
       "    }\n",
       "\n",
       "    .dataframe thead th {\n",
       "        text-align: right;\n",
       "    }\n",
       "</style>\n",
       "<table border=\"1\" class=\"dataframe\">\n",
       "  <thead>\n",
       "    <tr style=\"text-align: right;\">\n",
       "      <th></th>\n",
       "      <th>is_incres</th>\n",
       "    </tr>\n",
       "    <tr>\n",
       "      <th>date</th>\n",
       "      <th></th>\n",
       "    </tr>\n",
       "  </thead>\n",
       "  <tbody>\n",
       "    <tr>\n",
       "      <th>09-01-2015 09:25</th>\n",
       "      <td>0</td>\n",
       "    </tr>\n",
       "    <tr>\n",
       "      <th>09-01-2015 09:26</th>\n",
       "      <td>1</td>\n",
       "    </tr>\n",
       "    <tr>\n",
       "      <th>09-01-2015 09:27</th>\n",
       "      <td>0</td>\n",
       "    </tr>\n",
       "    <tr>\n",
       "      <th>09-01-2015 09:28</th>\n",
       "      <td>1</td>\n",
       "    </tr>\n",
       "    <tr>\n",
       "      <th>09-01-2015 09:29</th>\n",
       "      <td>0</td>\n",
       "    </tr>\n",
       "    <tr>\n",
       "      <th>...</th>\n",
       "      <td>...</td>\n",
       "    </tr>\n",
       "    <tr>\n",
       "      <th>25-01-2024 15:14</th>\n",
       "      <td>0</td>\n",
       "    </tr>\n",
       "    <tr>\n",
       "      <th>25-01-2024 15:15</th>\n",
       "      <td>0</td>\n",
       "    </tr>\n",
       "    <tr>\n",
       "      <th>25-01-2024 15:16</th>\n",
       "      <td>1</td>\n",
       "    </tr>\n",
       "    <tr>\n",
       "      <th>25-01-2024 15:17</th>\n",
       "      <td>1</td>\n",
       "    </tr>\n",
       "    <tr>\n",
       "      <th>25-01-2024 15:18</th>\n",
       "      <td>0</td>\n",
       "    </tr>\n",
       "  </tbody>\n",
       "</table>\n",
       "<p>836736 rows × 1 columns</p>\n",
       "</div>"
      ],
      "text/plain": [
       "                  is_incres\n",
       "date                       \n",
       "09-01-2015 09:25          0\n",
       "09-01-2015 09:26          1\n",
       "09-01-2015 09:27          0\n",
       "09-01-2015 09:28          1\n",
       "09-01-2015 09:29          0\n",
       "...                     ...\n",
       "25-01-2024 15:14          0\n",
       "25-01-2024 15:15          0\n",
       "25-01-2024 15:16          1\n",
       "25-01-2024 15:17          1\n",
       "25-01-2024 15:18          0\n",
       "\n",
       "[836736 rows x 1 columns]"
      ]
     },
     "execution_count": 36,
     "metadata": {},
     "output_type": "execute_result"
    }
   ],
   "source": [
    "df[[\"is_incres\"]][10:-10]"
   ]
  },
  {
   "cell_type": "code",
   "execution_count": 42,
   "metadata": {},
   "outputs": [
    {
     "data": {
      "text/plain": [
       "10"
      ]
     },
     "execution_count": 42,
     "metadata": {},
     "output_type": "execute_result"
    }
   ],
   "source": [
    "len(periodic_scale_X[0])"
   ]
  },
  {
   "cell_type": "code",
   "execution_count": 47,
   "metadata": {},
   "outputs": [
    {
     "name": "stdout",
     "output_type": "stream",
     "text": [
      "Epoch 1/2\n",
      "\u001b[1m26148/26148\u001b[0m \u001b[32m━━━━━━━━━━━━━━━━━━━━\u001b[0m\u001b[37m\u001b[0m \u001b[1m80s\u001b[0m 3ms/step - accuracy: 0.4982 - loss: 0.5018\n",
      "Epoch 2/2\n",
      "\u001b[1m26148/26148\u001b[0m \u001b[32m━━━━━━━━━━━━━━━━━━━━\u001b[0m\u001b[37m\u001b[0m \u001b[1m89s\u001b[0m 3ms/step - accuracy: 0.4985 - loss: 0.5015\n"
     ]
    },
    {
     "data": {
      "text/plain": [
       "<keras.src.callbacks.history.History at 0x29c24a69790>"
      ]
     },
     "execution_count": 47,
     "metadata": {},
     "output_type": "execute_result"
    }
   ],
   "source": [
    "model1.fit(np.asarray(periodic_scale_X),df[[\"is_incres\"]][10:-10].to_numpy(),epochs=2)"
   ]
  },
  {
   "cell_type": "code",
   "execution_count": null,
   "metadata": {},
   "outputs": [],
   "source": []
  }
 ],
 "metadata": {
  "kernelspec": {
   "display_name": "Python 3",
   "language": "python",
   "name": "python3"
  },
  "language_info": {
   "codemirror_mode": {
    "name": "ipython",
    "version": 3
   },
   "file_extension": ".py",
   "mimetype": "text/x-python",
   "name": "python",
   "nbconvert_exporter": "python",
   "pygments_lexer": "ipython3",
   "version": "3.12.1"
  }
 },
 "nbformat": 4,
 "nbformat_minor": 2
}
